{
 "cells": [
  {
   "cell_type": "code",
   "execution_count": 1,
   "id": "f7cd334c",
   "metadata": {},
   "outputs": [],
   "source": [
    "import numpy as np"
   ]
  },
  {
   "cell_type": "code",
   "execution_count": 4,
   "id": "453369b7",
   "metadata": {},
   "outputs": [],
   "source": [
    "class RegModel:\n",
    "    def __init__(self, data: np.array, labels: np.array, set_divide=(0.7, 0.2, 0.1)):\n",
    "        assert len(labels) == len(data), 'Sizes of Labels and Train Data must match'\n",
    "        p = np.random.permutation(len(data))\n",
    "        data = data[p]\n",
    "        labels = labels[p]\n",
    "        \n",
    "        # Normalize Data\n",
    "        data = (data - data.mean()) / data.std()\n",
    "        labels = (labels - labels.mean()) / labels.std()\n",
    "        \n",
    "        self.num_vars = data.shape[1]\n",
    "        \n",
    "        \n",
    "        self.train_set = data[0: int(set_divide[0] * len(data))]\n",
    "        self.train_labels = labels[0: int(set_divide[0] * len(data))]\n",
    "        \n",
    "        self.validation_set = data[int(set_divide[0] * len(data)): int((set_divide[0] + set_divide[1]) * len(data))]\n",
    "        self.validation_labels = labels[int(set_divide[0] * len(data)): int((set_divide[0] + set_divide[1]) * len(data))]\n",
    "        \n",
    "        self.test_set = data[int((set_divide[0] + set_divide[1]) * len(data)):]\n",
    "        self.test_labels = labels[int((set_divide[0] + set_divide[1]) * len(data)):]\n",
    "        \n",
    "    def initialize_weights(self, feature_engineering=False):\n",
    "        if feature_engineering:\n",
    "            # Feature Engineering\n",
    "            pass\n",
    "        self.weights = np.random.normal(shape=(self.num_vars, 1))\n",
    "        self.bias = np.zero((1,1))\n",
    "    \n",
    "    def _run_model(self, data):\n",
    "        return np.dot(data, self.weights) + self.bias\n",
    "    \n",
    "    def _update_weights(self, loss):\n",
    "        pass\n",
    "    def epoch(self, num_epochs):\n",
    "        pass"
   ]
  },
  {
   "cell_type": "code",
   "execution_count": null,
   "id": "69f85178",
   "metadata": {},
   "outputs": [],
   "source": []
  }
 ],
 "metadata": {
  "kernelspec": {
   "display_name": "Python 3 (ipykernel)",
   "language": "python",
   "name": "python3"
  },
  "language_info": {
   "codemirror_mode": {
    "name": "ipython",
    "version": 3
   },
   "file_extension": ".py",
   "mimetype": "text/x-python",
   "name": "python",
   "nbconvert_exporter": "python",
   "pygments_lexer": "ipython3",
   "version": "3.10.6"
  }
 },
 "nbformat": 4,
 "nbformat_minor": 5
}
