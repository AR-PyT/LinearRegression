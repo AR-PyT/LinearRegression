{
 "cells": [
  {
   "cell_type": "code",
   "execution_count": 1,
   "id": "f7cd334c",
   "metadata": {},
   "outputs": [],
   "source": [
    "import numpy as np"
   ]
  },
  {
   "cell_type": "code",
   "execution_count": 50,
   "id": "453369b7",
   "metadata": {},
   "outputs": [],
   "source": [
    "class RegModel:\n",
    "    def __init__(self, data: np.array, labels: np.array, learning_rate = 0.1, set_divide=(0.7, 0.2, 0.1)):\n",
    "        assert len(labels) == len(data), 'Sizes of Labels and Train Data must match'\n",
    "        p = np.random.permutation(len(data))\n",
    "        data = data[p]\n",
    "        labels = labels[p]\n",
    "        \n",
    "        # Normalize Data\n",
    "        data = (data - data.mean()) / data.std()\n",
    "        labels = (labels - labels.mean()) / labels.std()\n",
    "        \n",
    "        self.num_vars = data.shape[1]\n",
    "        self.l = learning_rate\n",
    "        \n",
    "        self.train_set = data[0: int(set_divide[0] * len(data))]\n",
    "        self.train_labels = labels[0: int(set_divide[0] * len(data))]\n",
    "        \n",
    "        self.validation_set = data[int(set_divide[0] * len(data)): int((set_divide[0] + set_divide[1]) * len(data))]\n",
    "        self.validation_labels = labels[int(set_divide[0] * len(data)): int((set_divide[0] + set_divide[1]) * len(data))]\n",
    "        \n",
    "        self.test_set = data[int((set_divide[0] + set_divide[1]) * len(data)):]\n",
    "        self.test_labels = labels[int((set_divide[0] + set_divide[1]) * len(data)):]\n",
    "        \n",
    "        self.initialize_weights()\n",
    "        \n",
    "    def initialize_weights(self, feature_engineering=False):\n",
    "        if feature_engineering:\n",
    "            # Feature Engineering\n",
    "            pass\n",
    "        self.weights = np.random.normal(size=(self.num_vars, 1))\n",
    "        self.bias = np.zeros((1,1))\n",
    "    \n",
    "    @staticmethod\n",
    "    def _get_loss(results, labels):\n",
    "        return np.sum(np.square(results - labels)) / len(results)\n",
    "    \n",
    "    def _run_model(self, data):\n",
    "        return np.dot(data, self.weights) + self.bias\n",
    "    \n",
    "    def _update_weights(self, predicted, labels, inputs):\n",
    "        self.weights -= self.l * (2 / len(labels) * np.sum(inputs * (predicted - labels)))\n",
    "        self.bias -= self.l * (2/len(labels) * np.sum(predicted - labels))\n",
    "        \n",
    "    def epoch(self, num_epochs):\n",
    "        for i in range(num_epochs):\n",
    "            pred = self._run_model(self.train_set)\n",
    "            loss = self._get_loss(pred, self.train_labels)\n",
    "            \n",
    "            print(f'[+] Epoch {i}: Loss = {round(loss, 2)}')\n",
    "            self._update_weights(pred, self.train_labels, self.train_set)\n",
    "    \n",
    "    def test_model(self):\n",
    "        pred = self._run_model(self.test_set)\n",
    "        loss = self._get_loss(pred, self.test_labels)\n",
    "        \n",
    "        print(f'[+] Loss in Test Set = {round(loss, 2)}')\n",
    "    \n",
    "    def predict(self, inputs):\n",
    "        return self._run_model(inputs)"
   ]
  },
  {
   "cell_type": "code",
   "execution_count": 28,
   "id": "69f85178",
   "metadata": {},
   "outputs": [],
   "source": [
    "data = np.load('ProcessedData/WeatherConditions/train_data.npy')\n",
    "labels = np.load('ProcessedData/WeatherConditions/labels.npy')\n",
    "labels = np.reshape(labels, (labels.shape[0], 1))"
   ]
  },
  {
   "cell_type": "code",
   "execution_count": 52,
   "id": "b578348c",
   "metadata": {},
   "outputs": [],
   "source": [
    "model = RegModel(data, labels)"
   ]
  },
  {
   "cell_type": "code",
   "execution_count": 53,
   "id": "85dba8ac",
   "metadata": {},
   "outputs": [
    {
     "name": "stdout",
     "output_type": "stream",
     "text": [
      "[+] Epoch 0: Loss = 1.13\n",
      "[+] Epoch 1: Loss = 1.03\n",
      "[+] Epoch 2: Loss = 1.02\n",
      "[+] Epoch 3: Loss = 1.02\n",
      "[+] Epoch 4: Loss = 1.02\n",
      "[+] Epoch 5: Loss = 1.02\n",
      "[+] Epoch 6: Loss = 1.02\n",
      "[+] Epoch 7: Loss = 1.02\n",
      "[+] Epoch 8: Loss = 1.02\n",
      "[+] Epoch 9: Loss = 1.02\n"
     ]
    }
   ],
   "source": [
    "model.epoch(10)"
   ]
  },
  {
   "cell_type": "code",
   "execution_count": 54,
   "id": "d6b0014a",
   "metadata": {},
   "outputs": [
    {
     "name": "stdout",
     "output_type": "stream",
     "text": [
      "[+] Loss in Test Set = 1.02\n"
     ]
    }
   ],
   "source": [
    "model.test_model()"
   ]
  },
  {
   "cell_type": "code",
   "execution_count": null,
   "id": "fbf23fcd",
   "metadata": {},
   "outputs": [],
   "source": []
  }
 ],
 "metadata": {
  "kernelspec": {
   "display_name": "Python 3 (ipykernel)",
   "language": "python",
   "name": "python3"
  },
  "language_info": {
   "codemirror_mode": {
    "name": "ipython",
    "version": 3
   },
   "file_extension": ".py",
   "mimetype": "text/x-python",
   "name": "python",
   "nbconvert_exporter": "python",
   "pygments_lexer": "ipython3",
   "version": "3.10.6"
  }
 },
 "nbformat": 4,
 "nbformat_minor": 5
}
